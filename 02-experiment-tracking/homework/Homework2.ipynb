{
 "cells": [
  {
   "cell_type": "code",
   "execution_count": null,
   "metadata": {},
   "outputs": [],
   "source": [
    "mlflow --version\n",
    "\n",
    "#Question 1: mlflow, version 2.13.0"
   ]
  },
  {
   "cell_type": "code",
   "execution_count": null,
   "metadata": {},
   "outputs": [],
   "source": [
    "python preprocess_data.py --raw_data_path data --dest_path ./output\n",
    "\n",
    "#Question 2: 4 (dv.pkl, train.pkl, test.pkl, val.pkl)"
   ]
  },
  {
   "cell_type": "code",
   "execution_count": null,
   "metadata": {},
   "outputs": [],
   "source": [
    "python train.py"
   ]
  },
  {
   "cell_type": "code",
   "execution_count": null,
   "metadata": {},
   "outputs": [],
   "source": [
    "mlflow ui --backend-store-uri sqlite:///mlflow.db\n",
    "\n",
    "#Question 3: min_samples_split = 2"
   ]
  },
  {
   "cell_type": "code",
   "execution_count": null,
   "metadata": {},
   "outputs": [],
   "source": [
    "mlflow ui --help\n",
    "\n",
    "#Question 4: --default-artifact-root"
   ]
  },
  {
   "cell_type": "code",
   "execution_count": null,
   "metadata": {},
   "outputs": [],
   "source": [
    "#Modify hpo.py\n",
    "\n",
    "python hpo.py\n",
    "\n",
    "mlflow ui --backend-store-uri sqlite:///mlflow.db\n",
    "\n",
    "#Question 5: rmse: 5.3241254348074785"
   ]
  },
  {
   "cell_type": "code",
   "execution_count": null,
   "metadata": {},
   "outputs": [],
   "source": [
    "python register_model.py\n",
    "\n",
    "#Question 6: test_rmse: 5.553681704954479"
   ]
  }
 ],
 "metadata": {
  "language_info": {
   "name": "python"
  }
 },
 "nbformat": 4,
 "nbformat_minor": 2
}
