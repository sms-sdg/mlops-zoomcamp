{
 "cells": [
  {
   "cell_type": "code",
   "execution_count": 1,
   "id": "e7f5c56c",
   "metadata": {},
   "outputs": [],
   "source": [
    "import pandas as pd\n",
    "import seaborn as sns\n",
    "import matplotlib.pyplot as plt\n",
    "from sklearn.feature_extraction import DictVectorizer\n",
    "from sklearn.linear_model import LinearRegression\n",
    "from sklearn.linear_model import Lasso\n",
    "from sklearn.linear_model import Ridge\n",
    "\n",
    "from sklearn.metrics import mean_squared_error"
   ]
  },
  {
   "cell_type": "code",
   "execution_count": 8,
   "id": "83be4291",
   "metadata": {},
   "outputs": [],
   "source": [
    "df = pd.read_parquet('https://d37ci6vzurychx.cloudfront.net/trip-data/yellow_tripdata_2024-01.parquet')\n",
    "df_jan2023 = pd.read_parquet('https://d37ci6vzurychx.cloudfront.net/trip-data/yellow_tripdata_2023-01.parquet')\n",
    "df_feb2023 = pd.read_parquet('https://d37ci6vzurychx.cloudfront.net/trip-data/yellow_tripdata_2023-02.parquet')"
   ]
  },
  {
   "cell_type": "code",
   "execution_count": 9,
   "id": "0d01010d",
   "metadata": {},
   "outputs": [
    {
     "data": {
      "text/plain": [
       "19"
      ]
     },
     "execution_count": 9,
     "metadata": {},
     "output_type": "execute_result"
    }
   ],
   "source": [
    "len(df_jan2023.columns) #number of columns (question 1)"
   ]
  },
  {
   "cell_type": "code",
   "execution_count": 11,
   "id": "549e20c2",
   "metadata": {},
   "outputs": [
    {
     "data": {
      "text/plain": [
       "42.594351241920904"
      ]
     },
     "execution_count": 11,
     "metadata": {},
     "output_type": "execute_result"
    }
   ],
   "source": [
    "df_jan2023['duration'] = df_jan2023['tpep_dropoff_datetime'] - df_jan2023['tpep_pickup_datetime']\n",
    "df_jan2023.duration = df_jan2023.duration.apply(lambda td: td.total_seconds() / 60)\n",
    "df_jan2023.duration.std() #standard deviation of the trips duration in January (Question 2)"
   ]
  },
  {
   "cell_type": "code",
   "execution_count": 12,
   "id": "6847a589",
   "metadata": {},
   "outputs": [
    {
     "data": {
      "text/plain": [
       "98.1220282212598"
      ]
     },
     "execution_count": 12,
     "metadata": {},
     "output_type": "execute_result"
    }
   ],
   "source": [
    "df_jan2023_filt = df_jan2023[(df_jan2023.duration >= 1) & (df_jan2023.duration <= 60)]\n",
    "perc = 100 - ((len(df_jan2023.axes[0]) - len(df_jan2023_filt.axes[0]))/len(df_jan2023.axes[0]) *100)\n",
    "perc #fraction of the records left after you dropped the outliers (Question 3)"
   ]
  },
  {
   "cell_type": "code",
   "execution_count": 13,
   "id": "1d45929f",
   "metadata": {},
   "outputs": [
    {
     "name": "stderr",
     "output_type": "stream",
     "text": [
      "/tmp/ipykernel_18245/1964931108.py:4: SettingWithCopyWarning: \n",
      "A value is trying to be set on a copy of a slice from a DataFrame.\n",
      "Try using .loc[row_indexer,col_indexer] = value instead\n",
      "\n",
      "See the caveats in the documentation: https://pandas.pydata.org/pandas-docs/stable/user_guide/indexing.html#returning-a-view-versus-a-copy\n",
      "  df_jan2023_filt[categorical] = df_jan2023_filt[categorical].astype(str)\n"
     ]
    }
   ],
   "source": [
    "categorical = ['PULocationID', 'DOLocationID']\n",
    "numerical = ['trip_distance']\n",
    "\n",
    "df_jan2023_filt[categorical] = df_jan2023_filt[categorical].astype(str)"
   ]
  },
  {
   "cell_type": "code",
   "execution_count": 15,
   "id": "380d744c",
   "metadata": {},
   "outputs": [
    {
     "name": "stdout",
     "output_type": "stream",
     "text": [
      "True\n",
      "True\n"
     ]
    }
   ],
   "source": [
    "def is_string_series(s : pd.Series):\n",
    "    if isinstance(s.dtype, pd.StringDtype):\n",
    "        # The series was explicitly created as a string series (Pandas>=1.0.0)\n",
    "        return True\n",
    "    elif s.dtype == 'object':\n",
    "        # Object series, check each value\n",
    "        return all((v is None) or isinstance(v, str) for v in s)\n",
    "    else:\n",
    "        return False\n",
    "\n",
    "print(is_string_series(df_jan2023_filt['PULocationID']))\n",
    "print(is_string_series(df_jan2023_filt['DOLocationID']))"
   ]
  },
  {
   "cell_type": "code",
   "execution_count": 18,
   "id": "790a7944",
   "metadata": {},
   "outputs": [
    {
     "data": {
      "text/plain": [
       "7.649143388169879"
      ]
     },
     "execution_count": 18,
     "metadata": {},
     "output_type": "execute_result"
    }
   ],
   "source": [
    "train_dicts = df_jan2023_filt[categorical + numerical].to_dict(orient='records')\n",
    "\n",
    "dv = DictVectorizer()\n",
    "X_train = dv.fit_transform(train_dicts)\n",
    "\n",
    "target = 'duration'\n",
    "y_train = df_jan2023_filt[target].values\n",
    "\n",
    "lr = LinearRegression()\n",
    "lr.fit(X_train, y_train)\n",
    "\n",
    "y_pred = lr.predict(X_train)\n",
    "\n",
    "mean_squared_error(y_train, y_pred, squared=False) #RMSE on train (Question 5)"
   ]
  },
  {
   "cell_type": "code",
   "execution_count": 21,
   "id": "cbcbdfad",
   "metadata": {},
   "outputs": [
    {
     "data": {
      "text/plain": [
       "<3009173x516 sparse matrix of type '<class 'numpy.float64'>'\n",
       "\twith 9027519 stored elements in Compressed Sparse Row format>"
      ]
     },
     "execution_count": 21,
     "metadata": {},
     "output_type": "execute_result"
    }
   ],
   "source": [
    "X_train #dimensionality of this matrix, number of columns (Question 4)"
   ]
  },
  {
   "cell_type": "code",
   "execution_count": null,
   "id": "b947cfc8",
   "metadata": {},
   "outputs": [],
   "source": []
  }
 ],
 "metadata": {
  "kernelspec": {
   "display_name": "Python 3 (ipykernel)",
   "language": "python",
   "name": "python3"
  },
  "language_info": {
   "codemirror_mode": {
    "name": "ipython",
    "version": 3
   },
   "file_extension": ".py",
   "mimetype": "text/x-python",
   "name": "python",
   "nbconvert_exporter": "python",
   "pygments_lexer": "ipython3",
   "version": "3.9.12"
  }
 },
 "nbformat": 4,
 "nbformat_minor": 5
}
