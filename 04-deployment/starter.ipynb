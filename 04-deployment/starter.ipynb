{
 "cells": [
  {
   "cell_type": "code",
   "execution_count": 1,
   "id": "2c51efaa",
   "metadata": {},
   "outputs": [
    {
     "name": "stderr",
     "output_type": "stream",
     "text": [
      "\"grep\" no se reconoce como un comando interno o externo,\n",
      "programa o archivo por lotes ejecutable.\n"
     ]
    }
   ],
   "source": [
    "!pip freeze | grep scikit-learn"
   ]
  },
  {
   "cell_type": "code",
   "execution_count": 2,
   "id": "4acf73a0-51b5-4663-9bb8-8eb947863e17",
   "metadata": {},
   "outputs": [
    {
     "name": "stdout",
     "output_type": "stream",
     "text": [
      "Python 3.11.5\n"
     ]
    }
   ],
   "source": [
    "!python -V"
   ]
  },
  {
   "cell_type": "code",
   "execution_count": 3,
   "id": "0ef880a0",
   "metadata": {},
   "outputs": [],
   "source": [
    "import pickle\n",
    "import pandas as pd"
   ]
  },
  {
   "cell_type": "code",
   "execution_count": 4,
   "id": "7836ccfd",
   "metadata": {},
   "outputs": [
    {
     "name": "stderr",
     "output_type": "stream",
     "text": [
      "c:\\Users\\sandra.martinez\\AppData\\Local\\anaconda3\\Lib\\site-packages\\sklearn\\base.py:347: InconsistentVersionWarning: Trying to unpickle estimator DictVectorizer from version 1.5.0 when using version 1.3.0. This might lead to breaking code or invalid results. Use at your own risk. For more info please refer to:\n",
      "https://scikit-learn.org/stable/model_persistence.html#security-maintainability-limitations\n",
      "  warnings.warn(\n",
      "c:\\Users\\sandra.martinez\\AppData\\Local\\anaconda3\\Lib\\site-packages\\sklearn\\base.py:347: InconsistentVersionWarning: Trying to unpickle estimator LinearRegression from version 1.5.0 when using version 1.3.0. This might lead to breaking code or invalid results. Use at your own risk. For more info please refer to:\n",
      "https://scikit-learn.org/stable/model_persistence.html#security-maintainability-limitations\n",
      "  warnings.warn(\n"
     ]
    }
   ],
   "source": [
    "with open('model.bin', 'rb') as f_in:\n",
    "    dv, model = pickle.load(f_in)"
   ]
  },
  {
   "cell_type": "code",
   "execution_count": 5,
   "id": "41c08294",
   "metadata": {},
   "outputs": [],
   "source": [
    "categorical = ['PULocationID', 'DOLocationID']\n",
    "\n",
    "def read_data(filename):\n",
    "    df = pd.read_parquet(filename)\n",
    "    \n",
    "    df['duration'] = df.tpep_dropoff_datetime - df.tpep_pickup_datetime\n",
    "    df['duration'] = df.duration.dt.total_seconds() / 60\n",
    "\n",
    "    df = df[(df.duration >= 1) & (df.duration <= 60)].copy()\n",
    "\n",
    "    df[categorical] = df[categorical].fillna(-1).astype('int').astype('str')\n",
    "    \n",
    "    return df"
   ]
  },
  {
   "cell_type": "code",
   "execution_count": 6,
   "id": "4854399a",
   "metadata": {},
   "outputs": [],
   "source": [
    "df = read_data('https://d37ci6vzurychx.cloudfront.net/trip-data/yellow_tripdata_2023-03.parquet')"
   ]
  },
  {
   "cell_type": "code",
   "execution_count": 7,
   "id": "669fda0a",
   "metadata": {},
   "outputs": [],
   "source": [
    "dicts = df[categorical].to_dict(orient='records')\n",
    "X_val = dv.transform(dicts)\n",
    "y_pred = model.predict(X_val)"
   ]
  },
  {
   "cell_type": "code",
   "execution_count": 14,
   "id": "bf532ae7-1897-428c-ba0c-875ccaf7d76c",
   "metadata": {},
   "outputs": [
    {
     "data": {
      "text/plain": [
       "6.247488852238703"
      ]
     },
     "execution_count": 14,
     "metadata": {},
     "output_type": "execute_result"
    }
   ],
   "source": [
    "y_pred.std() #standard deviation of the trips duration in March (Question 1: 6.24)"
   ]
  },
  {
   "cell_type": "code",
   "execution_count": 20,
   "id": "a1699a8f",
   "metadata": {},
   "outputs": [],
   "source": [
    "year = 2023\n",
    "month = 3\n",
    "\n",
    "df['ride_id'] = f'{year:04d}/{month:02d}_' + df.index.astype('str')\n",
    "\n",
    "df_result = pd.DataFrame()\n",
    "df_result['ride_id'] = df['ride_id']\n",
    "df_result['predicted_duration'] = y_pred\n",
    "\n",
    "output_file = \"output.parquet\"\n",
    "df_result.to_parquet(\n",
    "    output_file,\n",
    "    engine='pyarrow',\n",
    "    compression=None,\n",
    "    index=False\n",
    ")\n",
    "\n",
    "#size of the output file (Question 2: 66M)\n"
   ]
  },
  {
   "cell_type": "code",
   "execution_count": null,
   "id": "f8242a90",
   "metadata": {},
   "outputs": [],
   "source": [
    "#let's turn the notebook into a script (Question 3: jupyter nbconvert --to script starter.ipynb)"
   ]
  },
  {
   "cell_type": "code",
   "execution_count": 21,
   "id": "6ca02ec0",
   "metadata": {},
   "outputs": [
    {
     "name": "stdout",
     "output_type": "stream",
     "text": [
      "The scikit-learn version is 1.3.0.\n"
     ]
    }
   ],
   "source": [
    "#pip install pipenv\n",
    "#pipenv --version\n",
    "## pipenv, version 2024.0.1\n",
    "import sklearn\n",
    "print('The scikit-learn version is {}.'.format(sklearn.__version__))\n",
    "#pipenv --python=3.11.5 \n",
    "#pipenv install scikit-learn==1.3.0 pandas \n",
    "\n",
    "#What's the first hash for the Scikit-Learn dependency? (Question 4: \"hash\": {\"sha256\": \"c8122227c10016a12c68f3bb3d4e50d0704b0ccf8f0dfa9a97195d4fcf7cdb14\"})"
   ]
  },
  {
   "cell_type": "code",
   "execution_count": 22,
   "id": "94966aa6",
   "metadata": {},
   "outputs": [
    {
     "name": "stdout",
     "output_type": "stream",
     "text": [
      "The numpy version is 1.24.3.\n",
      "The scipy version is 1.11.1.\n"
     ]
    }
   ],
   "source": [
    "import numpy\n",
    "print('The numpy version is {}.'.format(numpy.__version__))\n",
    "\n",
    "import scipy\n",
    "print('The scipy version is {}.'.format(scipy.__version__))\n",
    "\n",
    "#pipenv install scipy==1.11.1 numpy==1.24.3"
   ]
  },
  {
   "cell_type": "code",
   "execution_count": null,
   "id": "b5eaecb1",
   "metadata": {},
   "outputs": [],
   "source": [
    "#Script in starter.py\n",
    "#Run the script for April 2023:\n",
    "##pipenv shell\n",
    "##pipenv install pyarrow fastparquet\n",
    "##python starter.py\n",
    "#What's the mean predicted duration? (Question 5: Mean predicted duration = 14.292282936862449)"
   ]
  },
  {
   "cell_type": "code",
   "execution_count": null,
   "id": "5ab2e7e5",
   "metadata": {},
   "outputs": [],
   "source": [
    "#Docker container\n",
    "#Commands in the terminal:\n",
    "##docker build --platform linux/amd64 -t starter_py .\n",
    "##docker run --platform linux/amd64 -it starter_py 2023 5\n",
    "#What's the mean predicted duration for May 2023? (Question 6: Mean predicted duration = 0.19174419265916945)"
   ]
  }
 ],
 "metadata": {
  "kernelspec": {
   "display_name": "Python 3 (ipykernel)",
   "language": "python",
   "name": "python3"
  },
  "language_info": {
   "codemirror_mode": {
    "name": "ipython",
    "version": 3
   },
   "file_extension": ".py",
   "mimetype": "text/x-python",
   "name": "python",
   "nbconvert_exporter": "python",
   "pygments_lexer": "ipython3",
   "version": "3.11.5"
  }
 },
 "nbformat": 4,
 "nbformat_minor": 5
}
